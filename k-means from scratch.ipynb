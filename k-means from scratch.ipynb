{
 "cells": [
  {
   "cell_type": "code",
   "execution_count": 1,
   "id": "0cea6468",
   "metadata": {},
   "outputs": [],
   "source": [
    "#import \n",
    "import numpy as np\n",
    "from sklearn.datasets import make_blobs\n",
    "import matplotlib.pyplot as plt\n",
    "import random\n",
    "import cv2"
   ]
  },
  {
   "cell_type": "code",
   "execution_count": 2,
   "id": "3516ac29",
   "metadata": {},
   "outputs": [],
   "source": [
    "#set seed \n",
    "random.seed(7)\n",
    "np.random.seed(7)"
   ]
  },
  {
   "cell_type": "code",
   "execution_count": 3,
   "id": "7bf44712",
   "metadata": {},
   "outputs": [],
   "source": [
    "#init centroid\n",
    "\n",
    "def get_initial_centroids(X, k):\n",
    "\n",
    "    number_of_samples = X.shape[0]\n",
    "    sample_points_ids = random.sample(range(0, number_of_samples), k)\n",
    "\n",
    "    centroids = [tuple(X[id]) for id in sample_points_ids]\n",
    "    unique_centroids = list(set(centroids))\n",
    "\n",
    "    number_of_unique_centroids = len(unique_centroids)\n",
    "\n",
    "    while number_of_unique_centroids < k:\n",
    "        new_sample_points_ids = random.sample(range(0, number_of_samples), k - number_of_unique_centroids)\n",
    "        new_centroids = [tuple(X[id]) for id in new_sample_points_ids]\n",
    "        unique_centroids = list(set(unique_centroids + new_centroids))\n",
    "\n",
    "        number_of_unique_centroids = len(unique_centroids)\n",
    "\n",
    "    return np.array(unique_centroids)"
   ]
  },
  {
   "cell_type": "code",
   "execution_count": 4,
   "id": "7d6f56d5",
   "metadata": {},
   "outputs": [],
   "source": [
    "#euclidean distance between  two matrix \n",
    "\n",
    "def get_euclidean_distance(A_matrix, B_matrix):\n",
    "\n",
    "    A_square = np.reshape(np.sum(A_matrix * A_matrix, axis=1), (A_matrix.shape[0], 1))\n",
    "    B_square = np.reshape(np.sum(B_matrix * B_matrix, axis=1), (1, B_matrix.shape[0]))\n",
    "    AB = A_matrix @ B_matrix.T\n",
    "\n",
    "    C = -2 * AB + B_square + A_square\n",
    "\n",
    "    return np.sqrt(C)"
   ]
  },
  {
   "cell_type": "code",
   "execution_count": 5,
   "id": "05a5edf8",
   "metadata": {},
   "outputs": [],
   "source": [
    "#init the cluster \n",
    "\n",
    "def get_clusters(X, centroids, distance_mesuring_method):\n",
    "    \n",
    "    k = centroids.shape[0]\n",
    "\n",
    "    clusters = {}\n",
    "\n",
    "    distance_matrix = distance_mesuring_method(X, centroids)\n",
    "\n",
    "    closest_cluster_ids = np.argmin(distance_matrix, axis=1)\n",
    "\n",
    "    for i in range(k):\n",
    "        clusters[i] = []\n",
    "\n",
    "    for i, cluster_id in enumerate(closest_cluster_ids):\n",
    "        clusters[cluster_id].append(X[i])\n",
    "\n",
    "    return clusters"
   ]
  },
  {
   "cell_type": "code",
   "execution_count": 6,
   "id": "ccee29fb",
   "metadata": {},
   "outputs": [],
   "source": [
    "#stop k-means\n",
    "\n",
    "def stop_clustering(previous_centroids, new_centroids, distance_mesuring_method, movement_threshold_delta):\n",
    "\n",
    "    distances_between_old_and_new_centroids = distance_mesuring_method(previous_centroids, new_centroids)\n",
    "    centroids_covered = np.max(distances_between_old_and_new_centroids.diagonal()) <= movement_threshold_delta\n",
    "\n",
    "    return centroids_covered"
   ]
  },
  {
   "cell_type": "code",
   "execution_count": 7,
   "id": "3e25c481",
   "metadata": {},
   "outputs": [],
   "source": [
    "#Combien all \n",
    "\n",
    "def perform_k_means_algorithm(X, k, distance_mesuring_method, movement_threshold_delta=0):\n",
    "\n",
    "    new_centroids = get_initial_centroids(X=X, k=k)\n",
    "\n",
    "    centroids_covered = False\n",
    "\n",
    "    while not centroids_covered:\n",
    "        previous_centroids = new_centroids\n",
    "        clusters = get_clusters(X, previous_centroids, distance_mesuring_method)\n",
    "\n",
    "        new_centroids = np.array([np.mean(clusters[key], axis=0, dtype=X.dtype) for key in sorted(clusters.keys())])\n",
    "\n",
    "        centroids_covered = stop_clustering(previous_centroids, new_centroids, distance_mesuring_method, movement_threshold_delta)\n",
    "\n",
    "    return new_centroids"
   ]
  },
  {
   "cell_type": "code",
   "execution_count": 8,
   "id": "134a366a",
   "metadata": {},
   "outputs": [
    {
     "data": {
      "image/png": "[encoded data removed]",
      "text/plain": [
       "<Figure size 720x360 with 1 Axes>"
      ]
     },
     "metadata": {
      "needs_background": "light"
     },
     "output_type": "display_data"
    }
   ],
   "source": [
    "# TEST !!!!! \n",
    "k = 4\n",
    "\n",
    "X, _ = make_blobs(n_samples=1000, n_features=2, centers=k)\n",
    "\n",
    "centroids = perform_k_means_algorithm(X, k, movement_threshold_delta=1/10, distance_mesuring_method=get_euclidean_distance)\n",
    "\n",
    "clusters = get_clusters(X, centroids, get_euclidean_distance)\n",
    "\n",
    "plt.rcParams['figure.figsize'] = [10, 5]\n",
    "for centroid, points in clusters.items():\n",
    "    points = np.array(points)\n",
    "    centroid = np.mean(points, axis=0)\n",
    "\n",
    "\n",
    "    plt.scatter(points[:, 0], points[:, 1], marker='o')\n",
    "    plt.grid()\n",
    "    plt.scatter(centroid[0], centroid[1], marker='x', color=\"red\")\n",
    "\n",
    "plt.show()"
   ]
  }
 ],
 "metadata": {
  "kernelspec": {
   "display_name": "Python 3 (ipykernel)",
   "language": "python",
   "name": "python3"
  },
  "language_info": {
   "codemirror_mode": {
    "name": "ipython",
    "version": 3
   },
   "file_extension": ".py",
   "mimetype": "text/x-python",
   "name": "python",
   "nbconvert_exporter": "python",
   "pygments_lexer": "ipython3",
   "version": "3.8.10"
  }
 },
 "nbformat": 4,
 "nbformat_minor": 5
}
